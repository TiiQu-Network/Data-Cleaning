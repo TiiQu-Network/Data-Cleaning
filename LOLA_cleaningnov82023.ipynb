{
 "cells": [
  {
   "cell_type": "code",
   "execution_count": 1,
   "id": "8d1bf79d",
   "metadata": {},
   "outputs": [
    {
     "name": "stdout",
     "output_type": "stream",
     "text": [
      "Collecting pyspellchecker\n",
      "  Downloading pyspellchecker-0.7.2-py3-none-any.whl (3.4 MB)\n",
      "     ---------------------------------------- 0.0/3.4 MB ? eta -:--:--\n",
      "     -- ------------------------------------- 0.2/3.4 MB 4.2 MB/s eta 0:00:01\n",
      "     --------- ------------------------------ 0.8/3.4 MB 8.4 MB/s eta 0:00:01\n",
      "     ---------------------- ----------------- 1.9/3.4 MB 13.5 MB/s eta 0:00:01\n",
      "     -------------------------------------- - 3.3/3.4 MB 17.7 MB/s eta 0:00:01\n",
      "     ---------------------------------------  3.4/3.4 MB 16.8 MB/s eta 0:00:01\n",
      "     ---------------------------------------  3.4/3.4 MB 16.8 MB/s eta 0:00:01\n",
      "     ---------------------------------------  3.4/3.4 MB 16.8 MB/s eta 0:00:01\n",
      "     ---------------------------------------- 3.4/3.4 MB 9.5 MB/s eta 0:00:00\n",
      "Installing collected packages: pyspellchecker\n",
      "Successfully installed pyspellchecker-0.7.2\n",
      "Note: you may need to restart the kernel to use updated packages.\n"
     ]
    }
   ],
   "source": [
    "pip install pyspellchecker\n"
   ]
  },
  {
   "cell_type": "code",
   "execution_count": 1,
   "id": "ce001231",
   "metadata": {},
   "outputs": [
    {
     "name": "stdout",
     "output_type": "stream",
     "text": [
      "Note: you may need to restart the kernel to use updated packages.\n"
     ]
    },
    {
     "name": "stderr",
     "output_type": "stream",
     "text": [
      "ERROR: Could not find a version that satisfies the requirement pyspell (from versions: none)\n",
      "ERROR: No matching distribution found for pyspell\n"
     ]
    }
   ],
   "source": [
    "pip install pyspell"
   ]
  },
  {
   "cell_type": "code",
   "execution_count": 11,
   "id": "57ffc0ce",
   "metadata": {},
   "outputs": [
    {
     "name": "stdout",
     "output_type": "stream",
     "text": [
      "Requirement already satisfied: spacy in c:\\users\\lolapwasanga\\anaconda3\\lib\\site-packages (3.6.1)\n",
      "Requirement already satisfied: spacy-legacy<3.1.0,>=3.0.11 in c:\\users\\lolapwasanga\\anaconda3\\lib\\site-packages (from spacy) (3.0.12)\n",
      "Requirement already satisfied: spacy-loggers<2.0.0,>=1.0.0 in c:\\users\\lolapwasanga\\anaconda3\\lib\\site-packages (from spacy) (1.0.4)\n",
      "Requirement already satisfied: murmurhash<1.1.0,>=0.28.0 in c:\\users\\lolapwasanga\\anaconda3\\lib\\site-packages (from spacy) (1.0.9)\n",
      "Requirement already satisfied: cymem<2.1.0,>=2.0.2 in c:\\users\\lolapwasanga\\anaconda3\\lib\\site-packages (from spacy) (2.0.7)\n",
      "Requirement already satisfied: preshed<3.1.0,>=3.0.2 in c:\\users\\lolapwasanga\\anaconda3\\lib\\site-packages (from spacy) (3.0.8)\n",
      "Requirement already satisfied: thinc<8.2.0,>=8.1.8 in c:\\users\\lolapwasanga\\anaconda3\\lib\\site-packages (from spacy) (8.1.12)\n",
      "Requirement already satisfied: wasabi<1.2.0,>=0.9.1 in c:\\users\\lolapwasanga\\anaconda3\\lib\\site-packages (from spacy) (1.1.2)\n",
      "Requirement already satisfied: srsly<3.0.0,>=2.4.3 in c:\\users\\lolapwasanga\\anaconda3\\lib\\site-packages (from spacy) (2.4.7)\n",
      "Requirement already satisfied: catalogue<2.1.0,>=2.0.6 in c:\\users\\lolapwasanga\\anaconda3\\lib\\site-packages (from spacy) (2.0.9)\n",
      "Requirement already satisfied: typer<0.10.0,>=0.3.0 in c:\\users\\lolapwasanga\\anaconda3\\lib\\site-packages (from spacy) (0.9.0)\n",
      "Requirement already satisfied: pathy>=0.10.0 in c:\\users\\lolapwasanga\\anaconda3\\lib\\site-packages (from spacy) (0.10.2)\n",
      "Requirement already satisfied: smart-open<7.0.0,>=5.2.1 in c:\\users\\lolapwasanga\\anaconda3\\lib\\site-packages (from spacy) (5.2.1)\n",
      "Requirement already satisfied: tqdm<5.0.0,>=4.38.0 in c:\\users\\lolapwasanga\\anaconda3\\lib\\site-packages (from spacy) (4.65.0)\n",
      "Requirement already satisfied: numpy>=1.15.0 in c:\\users\\lolapwasanga\\anaconda3\\lib\\site-packages (from spacy) (1.24.3)\n",
      "Requirement already satisfied: requests<3.0.0,>=2.13.0 in c:\\users\\lolapwasanga\\anaconda3\\lib\\site-packages (from spacy) (2.31.0)\n",
      "Requirement already satisfied: pydantic!=1.8,!=1.8.1,<3.0.0,>=1.7.4 in c:\\users\\lolapwasanga\\anaconda3\\lib\\site-packages (from spacy) (2.3.0)\n",
      "Requirement already satisfied: jinja2 in c:\\users\\lolapwasanga\\anaconda3\\lib\\site-packages (from spacy) (3.1.2)\n",
      "Requirement already satisfied: setuptools in c:\\users\\lolapwasanga\\anaconda3\\lib\\site-packages (from spacy) (68.0.0)\n",
      "Requirement already satisfied: packaging>=20.0 in c:\\users\\lolapwasanga\\anaconda3\\lib\\site-packages (from spacy) (23.0)\n",
      "Requirement already satisfied: langcodes<4.0.0,>=3.2.0 in c:\\users\\lolapwasanga\\anaconda3\\lib\\site-packages (from spacy) (3.3.0)\n",
      "Requirement already satisfied: annotated-types>=0.4.0 in c:\\users\\lolapwasanga\\anaconda3\\lib\\site-packages (from pydantic!=1.8,!=1.8.1,<3.0.0,>=1.7.4->spacy) (0.5.0)\n",
      "Requirement already satisfied: pydantic-core==2.6.3 in c:\\users\\lolapwasanga\\anaconda3\\lib\\site-packages (from pydantic!=1.8,!=1.8.1,<3.0.0,>=1.7.4->spacy) (2.6.3)\n",
      "Requirement already satisfied: typing-extensions>=4.6.1 in c:\\users\\lolapwasanga\\anaconda3\\lib\\site-packages (from pydantic!=1.8,!=1.8.1,<3.0.0,>=1.7.4->spacy) (4.7.1)\n",
      "Requirement already satisfied: charset-normalizer<4,>=2 in c:\\users\\lolapwasanga\\anaconda3\\lib\\site-packages (from requests<3.0.0,>=2.13.0->spacy) (2.0.4)\n",
      "Requirement already satisfied: idna<4,>=2.5 in c:\\users\\lolapwasanga\\anaconda3\\lib\\site-packages (from requests<3.0.0,>=2.13.0->spacy) (3.4)\n",
      "Requirement already satisfied: urllib3<3,>=1.21.1 in c:\\users\\lolapwasanga\\anaconda3\\lib\\site-packages (from requests<3.0.0,>=2.13.0->spacy) (1.26.16)\n",
      "Requirement already satisfied: certifi>=2017.4.17 in c:\\users\\lolapwasanga\\anaconda3\\lib\\site-packages (from requests<3.0.0,>=2.13.0->spacy) (2023.7.22)\n",
      "Requirement already satisfied: blis<0.8.0,>=0.7.8 in c:\\users\\lolapwasanga\\anaconda3\\lib\\site-packages (from thinc<8.2.0,>=8.1.8->spacy) (0.7.10)\n",
      "Requirement already satisfied: confection<1.0.0,>=0.0.1 in c:\\users\\lolapwasanga\\anaconda3\\lib\\site-packages (from thinc<8.2.0,>=8.1.8->spacy) (0.1.1)\n",
      "Requirement already satisfied: colorama in c:\\users\\lolapwasanga\\anaconda3\\lib\\site-packages (from tqdm<5.0.0,>=4.38.0->spacy) (0.4.6)\n",
      "Requirement already satisfied: click<9.0.0,>=7.1.1 in c:\\users\\lolapwasanga\\anaconda3\\lib\\site-packages (from typer<0.10.0,>=0.3.0->spacy) (8.0.4)\n",
      "Requirement already satisfied: MarkupSafe>=2.0 in c:\\users\\lolapwasanga\\anaconda3\\lib\\site-packages (from jinja2->spacy) (2.1.1)\n",
      "Note: you may need to restart the kernel to use updated packages.\n"
     ]
    }
   ],
   "source": [
    "pip install spacy"
   ]
  },
  {
   "cell_type": "code",
   "execution_count": 12,
   "id": "d52554dd",
   "metadata": {},
   "outputs": [
    {
     "name": "stdout",
     "output_type": "stream",
     "text": [
      "Collecting textblobNote: you may need to restart the kernel to use updated packages.\n",
      "\n",
      "  Downloading textblob-0.17.1-py2.py3-none-any.whl (636 kB)\n",
      "     ---------------------------------------- 0.0/636.8 kB ? eta -:--:--\n",
      "     ---------- --------------------------- 174.1/636.8 kB 5.3 MB/s eta 0:00:01\n",
      "     ------------------------- ------------ 419.8/636.8 kB 5.3 MB/s eta 0:00:01\n",
      "     -------------------------------------  634.9/636.8 kB 6.6 MB/s eta 0:00:01\n",
      "     -------------------------------------  634.9/636.8 kB 6.6 MB/s eta 0:00:01\n",
      "     -------------------------------------  634.9/636.8 kB 6.6 MB/s eta 0:00:01\n",
      "     -------------------------------------- 636.8/636.8 kB 2.4 MB/s eta 0:00:00\n",
      "Requirement already satisfied: nltk>=3.1 in c:\\users\\lolapwasanga\\anaconda3\\lib\\site-packages (from textblob) (3.8.1)\n",
      "Requirement already satisfied: click in c:\\users\\lolapwasanga\\anaconda3\\lib\\site-packages (from nltk>=3.1->textblob) (8.0.4)\n",
      "Requirement already satisfied: joblib in c:\\users\\lolapwasanga\\anaconda3\\lib\\site-packages (from nltk>=3.1->textblob) (1.2.0)\n",
      "Requirement already satisfied: regex>=2021.8.3 in c:\\users\\lolapwasanga\\anaconda3\\lib\\site-packages (from nltk>=3.1->textblob) (2022.7.9)\n",
      "Requirement already satisfied: tqdm in c:\\users\\lolapwasanga\\anaconda3\\lib\\site-packages (from nltk>=3.1->textblob) (4.65.0)\n",
      "Requirement already satisfied: colorama in c:\\users\\lolapwasanga\\anaconda3\\lib\\site-packages (from click->nltk>=3.1->textblob) (0.4.6)\n",
      "Installing collected packages: textblob\n",
      "Successfully installed textblob-0.17.1\n"
     ]
    }
   ],
   "source": [
    "pip install textblob"
   ]
  },
  {
   "cell_type": "code",
   "execution_count": 13,
   "id": "a6eb3e60",
   "metadata": {},
   "outputs": [
    {
     "name": "stdout",
     "output_type": "stream",
     "text": [
      "Note: you may need to restart the kernel to use updated packages.\n"
     ]
    },
    {
     "name": "stderr",
     "output_type": "stream",
     "text": [
      "ERROR: Could not find a version that satisfies the requirement symspell (from versions: none)\n",
      "ERROR: No matching distribution found for symspell\n"
     ]
    }
   ],
   "source": [
    "pip install symspell"
   ]
  },
  {
   "cell_type": "code",
   "execution_count": 14,
   "id": "503b566e",
   "metadata": {},
   "outputs": [
    {
     "name": "stdout",
     "output_type": "stream",
     "text": [
      "Collecting jamspellNote: you may need to restart the kernel to use updated packages.\n"
     ]
    },
    {
     "name": "stderr",
     "output_type": "stream",
     "text": [
      "  error: subprocess-exited-with-error\n",
      "  \n",
      "  python setup.py bdist_wheel did not run successfully.\n",
      "  exit code: 1\n",
      "  \n",
      "  [70 lines of output]\n",
      "  C:\\Users\\LolaPwasanga\\anaconda3\\Lib\\site-packages\\setuptools\\dist.py:745: SetuptoolsDeprecationWarning: Invalid dash-separated options\n",
      "  !!\n",
      "  \n",
      "          ********************************************************************************\n",
      "          Usage of dash-separated 'description-file' will not be supported in future\n",
      "          versions. Please use the underscore name 'description_file' instead.\n",
      "  \n",
      "          This deprecation is overdue, please update your project and remove deprecated\n",
      "          calls to avoid build errors in the future.\n",
      "  \n",
      "          See https://setuptools.pypa.io/en/latest/userguide/declarative_config.html for details.\n",
      "          ********************************************************************************\n",
      "  \n",
      "  !!\n",
      "    opt = self.warn_dash_deprecation(opt, section)\n",
      "  running bdist_wheel\n",
      "  running build\n",
      "  running build_ext\n",
      "  building '_jamspell' extension\n",
      "  Traceback (most recent call last):\n",
      "    File \"<string>\", line 2, in <module>\n",
      "    File \"<pip-setuptools-caller>\", line 34, in <module>\n",
      "    File \"C:\\Users\\LolaPwasanga\\AppData\\Local\\Temp\\pip-install-wzcy37ao\\jamspell_b6ecc684752d45dd84ddcafade10da54\\setup.py\", line 55, in <module>\n",
      "      setup(\n",
      "    File \"C:\\Users\\LolaPwasanga\\anaconda3\\Lib\\site-packages\\setuptools\\__init__.py\", line 107, in setup\n",
      "      return distutils.core.setup(**attrs)\n",
      "             ^^^^^^^^^^^^^^^^^^^^^^^^^^^^^\n",
      "    File \"C:\\Users\\LolaPwasanga\\anaconda3\\Lib\\site-packages\\setuptools\\_distutils\\core.py\", line 185, in setup\n",
      "      return run_commands(dist)\n",
      "             ^^^^^^^^^^^^^^^^^^\n",
      "    File \"C:\\Users\\LolaPwasanga\\anaconda3\\Lib\\site-packages\\setuptools\\_distutils\\core.py\", line 201, in run_commands\n",
      "      dist.run_commands()\n",
      "    File \"C:\\Users\\LolaPwasanga\\anaconda3\\Lib\\site-packages\\setuptools\\_distutils\\dist.py\", line 969, in run_commands\n",
      "      self.run_command(cmd)\n",
      "    File \"C:\\Users\\LolaPwasanga\\anaconda3\\Lib\\site-packages\\setuptools\\dist.py\", line 1234, in run_command\n",
      "      super().run_command(command)\n",
      "    File \"C:\\Users\\LolaPwasanga\\anaconda3\\Lib\\site-packages\\setuptools\\_distutils\\dist.py\", line 988, in run_command\n",
      "      cmd_obj.run()\n",
      "    File \"C:\\Users\\LolaPwasanga\\anaconda3\\Lib\\site-packages\\wheel\\bdist_wheel.py\", line 325, in run\n",
      "      self.run_command(\"build\")\n",
      "    File \"C:\\Users\\LolaPwasanga\\anaconda3\\Lib\\site-packages\\setuptools\\_distutils\\cmd.py\", line 318, in run_command\n",
      "      self.distribution.run_command(command)\n",
      "    File \"C:\\Users\\LolaPwasanga\\anaconda3\\Lib\\site-packages\\setuptools\\dist.py\", line 1234, in run_command\n",
      "      super().run_command(command)\n",
      "    File \"C:\\Users\\LolaPwasanga\\anaconda3\\Lib\\site-packages\\setuptools\\_distutils\\dist.py\", line 988, in run_command\n",
      "      cmd_obj.run()\n",
      "    File \"C:\\Users\\LolaPwasanga\\AppData\\Local\\Temp\\pip-install-wzcy37ao\\jamspell_b6ecc684752d45dd84ddcafade10da54\\setup.py\", line 37, in run\n",
      "      self.run_command('build_ext')\n",
      "    File \"C:\\Users\\LolaPwasanga\\anaconda3\\Lib\\site-packages\\setuptools\\_distutils\\cmd.py\", line 318, in run_command\n",
      "      self.distribution.run_command(command)\n",
      "    File \"C:\\Users\\LolaPwasanga\\anaconda3\\Lib\\site-packages\\setuptools\\dist.py\", line 1234, in run_command\n",
      "      super().run_command(command)\n",
      "    File \"C:\\Users\\LolaPwasanga\\anaconda3\\Lib\\site-packages\\setuptools\\_distutils\\dist.py\", line 988, in run_command\n",
      "      cmd_obj.run()\n",
      "    File \"C:\\Users\\LolaPwasanga\\anaconda3\\Lib\\site-packages\\setuptools\\_distutils\\command\\build_ext.py\", line 345, in run\n",
      "      self.build_extensions()\n",
      "    File \"C:\\Users\\LolaPwasanga\\anaconda3\\Lib\\site-packages\\setuptools\\_distutils\\command\\build_ext.py\", line 467, in build_extensions\n",
      "      self._build_extensions_serial()\n",
      "    File \"C:\\Users\\LolaPwasanga\\anaconda3\\Lib\\site-packages\\setuptools\\_distutils\\command\\build_ext.py\", line 493, in _build_extensions_serial\n",
      "      self.build_extension(ext)\n",
      "    File \"C:\\Users\\LolaPwasanga\\anaconda3\\Lib\\site-packages\\setuptools\\_distutils\\command\\build_ext.py\", line 526, in build_extension\n",
      "      sources = self.swig_sources(sources, ext)\n",
      "                ^^^^^^^^^^^^^^^^^^^^^^^^^^^^^^^\n",
      "    File \"C:\\Users\\LolaPwasanga\\anaconda3\\Lib\\site-packages\\setuptools\\_distutils\\command\\build_ext.py\", line 624, in swig_sources\n",
      "      swig = self.swig or self.find_swig()\n",
      "                          ^^^^^^^^^^^^^^^^\n",
      "    File \"C:\\Users\\LolaPwasanga\\AppData\\Local\\Temp\\pip-install-wzcy37ao\\jamspell_b6ecc684752d45dd84ddcafade10da54\\setup.py\", line 49, in find_swig\n",
      "      assert swigBinary is not None\n",
      "             ^^^^^^^^^^^^^^^^^^^^^^\n",
      "  AssertionError\n",
      "  [end of output]\n",
      "  \n",
      "  note: This error originates from a subprocess, and is likely not a problem with pip.\n",
      "  ERROR: Failed building wheel for jamspell\n",
      "ERROR: Could not build wheels for jamspell, which is required to install pyproject.toml-based projects\n"
     ]
    },
    {
     "name": "stdout",
     "output_type": "stream",
     "text": [
      "\n",
      "  Downloading jamspell-0.0.12.tar.gz (174 kB)\n",
      "     ---------------------------------------- 0.0/174.3 kB ? eta -:--:--\n",
      "     ------------------------------- ------ 143.4/174.3 kB 2.8 MB/s eta 0:00:01\n",
      "     -------------------------------------  174.1/174.3 kB 3.5 MB/s eta 0:00:01\n",
      "     -------------------------------------  174.1/174.3 kB 3.5 MB/s eta 0:00:01\n",
      "     -------------------------------------- 174.3/174.3 kB 1.1 MB/s eta 0:00:00\n",
      "  Preparing metadata (setup.py): started\n",
      "  Preparing metadata (setup.py): finished with status 'done'\n",
      "Building wheels for collected packages: jamspell\n",
      "  Building wheel for jamspell (setup.py): started\n",
      "  Building wheel for jamspell (setup.py): finished with status 'error'\n",
      "  Running setup.py clean for jamspell\n",
      "Failed to build jamspell\n"
     ]
    }
   ],
   "source": [
    "pip install jamspell"
   ]
  },
  {
   "cell_type": "code",
   "execution_count": 16,
   "id": "85c1b2f1",
   "metadata": {},
   "outputs": [
    {
     "name": "stdout",
     "output_type": "stream",
     "text": [
      "Note: you may need to restart the kernel to use updated packages.\n"
     ]
    },
    {
     "name": "stderr",
     "output_type": "stream",
     "text": [
      "ERROR: Could not find a version that satisfies the requirement LanguageTool (from versions: none)\n",
      "ERROR: No matching distribution found for LanguageTool\n"
     ]
    }
   ],
   "source": [
    "pip install LanguageTool"
   ]
  },
  {
   "cell_type": "code",
   "execution_count": 17,
   "id": "a67757c0",
   "metadata": {},
   "outputs": [
    {
     "name": "stdout",
     "output_type": "stream",
     "text": [
      "Note: you may need to restart the kernel to use updated packages.\n"
     ]
    },
    {
     "name": "stderr",
     "output_type": "stream",
     "text": [
      "ERROR: Could not find a version that satisfies the requirement Gingerit (from versions: none)\n",
      "ERROR: No matching distribution found for Gingerit\n"
     ]
    }
   ],
   "source": [
    "pip install Gingerit"
   ]
  },
  {
   "cell_type": "code",
   "execution_count": 18,
   "id": "d5a95967",
   "metadata": {},
   "outputs": [
    {
     "name": "stdout",
     "output_type": "stream",
     "text": [
      "Requirement already satisfied: AutoCorrect in c:\\users\\lolapwasanga\\anaconda3\\lib\\site-packages (2.6.1)\n",
      "Note: you may need to restart the kernel to use updated packages.\n"
     ]
    }
   ],
   "source": [
    "pip install AutoCorrect"
   ]
  },
  {
   "cell_type": "code",
   "execution_count": 5,
   "id": "e2ede482",
   "metadata": {
    "scrolled": true
   },
   "outputs": [
    {
     "name": "stdout",
     "output_type": "stream",
     "text": [
      "Collecting hunspell\n",
      "  Downloading hunspell-0.5.5.tar.gz (34 kB)\n",
      "  Preparing metadata (setup.py): started\n",
      "  Preparing metadata (setup.py): finished with status 'done'\n",
      "Building wheels for collected packages: hunspell\n",
      "  Building wheel for hunspell (setup.py): started\n",
      "  Building wheel for hunspell (setup.py): finished with status 'error'\n",
      "  Running setup.py clean for hunspell\n",
      "Failed to build hunspell\n",
      "Note: you may need to restart the kernel to use updated packages.\n"
     ]
    },
    {
     "name": "stderr",
     "output_type": "stream",
     "text": [
      "  error: subprocess-exited-with-error\n",
      "  \n",
      "  python setup.py bdist_wheel did not run successfully.\n",
      "  exit code: 1\n",
      "  \n",
      "  [12 lines of output]\n",
      "  running bdist_wheel\n",
      "  running build\n",
      "  running build_ext\n",
      "  building 'hunspell' extension\n",
      "  creating build\n",
      "  creating build\\temp.win-amd64-cpython-311\n",
      "  creating build\\temp.win-amd64-cpython-311\\Release\n",
      "  \"C:\\Program Files (x86)\\Microsoft Visual Studio\\2019\\BuildTools\\VC\\Tools\\MSVC\\14.29.30133\\bin\\HostX86\\x64\\cl.exe\" /c /nologo /O2 /W3 /GL /DNDEBUG /MD -DHUNSPELL_STATIC -IV:/hunspell-1.3.3/src/hunspell -IC:\\Users\\LolaPwasanga\\anaconda3\\include -IC:\\Users\\LolaPwasanga\\anaconda3\\Include \"-IC:\\Program Files (x86)\\Microsoft Visual Studio\\2019\\BuildTools\\VC\\Tools\\MSVC\\14.29.30133\\include\" \"-IC:\\Program Files (x86)\\Windows Kits\\NETFXSDK\\4.8\\include\\um\" \"-IC:\\Program Files (x86)\\Windows Kits\\10\\include\\10.0.19041.0\\ucrt\" \"-IC:\\Program Files (x86)\\Windows Kits\\10\\include\\10.0.19041.0\\shared\" \"-IC:\\Program Files (x86)\\Windows Kits\\10\\include\\10.0.19041.0\\um\" \"-IC:\\Program Files (x86)\\Windows Kits\\10\\include\\10.0.19041.0\\winrt\" \"-IC:\\Program Files (x86)\\Windows Kits\\10\\include\\10.0.19041.0\\cppwinrt\" /EHsc /Tphunspell.cpp /Fobuild\\temp.win-amd64-cpython-311\\Release\\hunspell.obj /MT\n",
      "  cl : Command line warning D9025 : overriding '/MD' with '/MT'\n",
      "  hunspell.cpp\n",
      "  hunspell.cpp(20): fatal error C1083: Cannot open include file: 'hunspell.hxx': No such file or directory\n",
      "  error: command 'C:\\\\Program Files (x86)\\\\Microsoft Visual Studio\\\\2019\\\\BuildTools\\\\VC\\\\Tools\\\\MSVC\\\\14.29.30133\\\\bin\\\\HostX86\\\\x64\\\\cl.exe' failed with exit code 2\n",
      "  [end of output]\n",
      "  \n",
      "  note: This error originates from a subprocess, and is likely not a problem with pip.\n",
      "  ERROR: Failed building wheel for hunspell\n",
      "ERROR: Could not build wheels for hunspell, which is required to install pyproject.toml-based projects\n"
     ]
    }
   ],
   "source": [
    "pip install hunspell"
   ]
  },
  {
   "cell_type": "markdown",
   "id": "22552561",
   "metadata": {},
   "source": [
    "# spellcheck_with five libraries for both Q and As"
   ]
  },
  {
   "cell_type": "code",
   "execution_count": 1,
   "id": "8e05341f",
   "metadata": {},
   "outputs": [],
   "source": [
    "import pandas as pd\n",
    "import spacy\n",
    "from autocorrect import Speller\n",
    "from textblob import TextBlob\n",
    "from autocorrect import Speller\n",
    "from spellchecker import SpellChecker\n",
    "from spellchecker.spellchecker import SpellChecker as SpellChecker2\n",
    "\n",
    "\n",
    "\n",
    "def spellcheck_with_spacy(df):\n",
    "    nlp = spacy.load(\"en_core_web_sm\")\n",
    "    spell = Speller(lang='en')\n",
    "\n",
    "    def clean_and_spellcheck(text):\n",
    "        doc = nlp(str(text))  # Convert to string to handle non-string values\n",
    "        corrected_words = [spell(token.lemma_) for token in doc]\n",
    "        return ' '.join(corrected_words)\n",
    "\n",
    "    df['Question'] = df['Question'].apply(clean_and_spellcheck)\n",
    "    df['Answer'] = df['Answer'].apply(clean_and_spellcheck)\n",
    "    return df\n",
    "\n",
    "def spellcheck_with_textblob(df):\n",
    "    def clean_and_spellcheck(text):\n",
    "        blob = TextBlob(text)\n",
    "        corrected_text = str(blob.correct())\n",
    "        return corrected_text\n",
    "\n",
    "    df['Question'] = df['Question'].apply(clean_and_spellcheck)\n",
    "    df['Answer'] = df['Answer'].apply(clean_and_spellcheck)\n",
    "    return df\n",
    "\n",
    "def spellcheck_with_autocorrect(df):\n",
    "    spell = Speller(lang='en')\n",
    "\n",
    "    def clean_and_spellcheck(text):\n",
    "        corrected_text = spell(text)\n",
    "        return corrected_text\n",
    "\n",
    "    df['Question'] = df['Question'].astype(str).apply(clean_and_spellcheck)\n",
    "    df['Answer'] = df['Answer'].astype(str).apply(clean_and_spellcheck)\n",
    "    return df\n",
    "\n",
    "def spellcheck_with_pyspellchecker(df):\n",
    "    spell = SpellChecker()\n",
    "\n",
    "    def clean_and_spellcheck(text):\n",
    "        words = text.split()\n",
    "        corrected_words = [spell.correction(word) if spell.correction(word) is not None else word for word in words]\n",
    "        return ' '.join(corrected_words)\n",
    "\n",
    "    df['Question'] = df['Question'].astype(str).apply(clean_and_spellcheck)\n",
    "    df['Answer'] = df['Answer'].astype(str).apply(clean_and_spellcheck)\n",
    "    return df\n",
    "\n",
    "def spellcheck_with_spellchecker(df):\n",
    "    spell = SpellChecker()\n",
    "\n",
    "    def clean_and_spellcheck(text):\n",
    "        words = text.split()\n",
    "        corrected_words = [spell.correction(word) if spell.correction(word) is not None else word for word in words]\n",
    "        return ' '.join(corrected_words)\n",
    "\n",
    "    df['Question'] = df['Question'].astype(str).apply(clean_and_spellcheck)\n",
    "    df['Answer'] = df['Answer'].astype(str).apply(clean_and_spellcheck)\n",
    "    return df\n",
    "\n",
    "def main():\n",
    "    # Load \n",
    "    df = pd.read_csv('db8606_20.csv')\n",
    "    #df = pd.read_csv('C:/Users/LolaPwasanga/Downloads/db8606_20.csv')\n",
    "   \n",
    "     # Spell-check using Spacy for lemmatization and autocorrection\n",
    "    df = spellcheck_with_spacy(df)\n",
    "\n",
    "    # Spell-check using TextBlob\n",
    "    df = spellcheck_with_textblob(df)\n",
    "\n",
    "    # Spell-check using Autocorrect\n",
    "    df = spellcheck_with_autocorrect(df)\n",
    "\n",
    "    # Spell-check using Pyspellchecker\n",
    "    df = spellcheck_with_pyspellchecker(df)\n",
    "\n",
    "    # Spell-check using Spellchecker\n",
    "    df = spellcheck_with_spellchecker(df)\n",
    "\n",
    "    # Save the final cleaned dataset to a CSV file\n",
    "    df.to_csv('final_cleaned_dataset.csv', index=False)\n",
    "\n",
    "if __name__ == \"__main__\":\n",
    "    main()\n"
   ]
  },
  {
   "cell_type": "markdown",
   "id": "49effbb3",
   "metadata": {},
   "source": [
    "# add_full_stops"
   ]
  },
  {
   "cell_type": "code",
   "execution_count": 2,
   "id": "6154f288",
   "metadata": {},
   "outputs": [
    {
     "name": "stdout",
     "output_type": "stream",
     "text": [
      "First two rows without full stops at the end of Answer column:\n",
      "    id                                           Question  \\\n",
      "0  180  how do China and India lead in greeting of the...   \n",
      "1  181  what be the main highlight of deutsche et al i...   \n",
      "\n",
      "                                              Answer           topic_name  \\\n",
      "0            Hi et al 2019 find that China and India      Climate Impacts   \n",
      "1  deutsche et al is 2008 study explore the impac...  Researching Ecology   \n",
      "\n",
      "                                         topic_words      Riya  \\n  \\\n",
      "0  climatological, climatic, climatology, climato...  analysis NaN   \n",
      "1  researching, research, researched, researches,...  analysis NaN   \n",
      "\n",
      "                         Lola     Suman   Narunja  Simon           Sapna  \n",
      "0  incomplete answer provided  analysis  analysis    NaN  Incomplete Q&A  \n",
      "1                    analysis  analysis  analysis    NaN        strategy  \n",
      "\n",
      "First two rows with full stops added at the end of Answer column:\n",
      "    id                                           Question  \\\n",
      "0  180  how do China and India lead in greeting of the...   \n",
      "1  181  what be the main highlight of deutsche et al i...   \n",
      "\n",
      "                                              Answer           topic_name  \\\n",
      "0           Hi et al 2019 find that China and India.      Climate Impacts   \n",
      "1  deutsche et al is 2008 study explore the impac...  Researching Ecology   \n",
      "\n",
      "                                         topic_words      Riya  \\n  \\\n",
      "0  climatological, climatic, climatology, climato...  analysis NaN   \n",
      "1  researching, research, researched, researches,...  analysis NaN   \n",
      "\n",
      "                         Lola     Suman   Narunja  Simon           Sapna  \n",
      "0  incomplete answer provided  analysis  analysis    NaN  Incomplete Q&A  \n",
      "1                    analysis  analysis  analysis    NaN        strategy  \n"
     ]
    }
   ],
   "source": [
    "import pandas as pd\n",
    "\n",
    "def add_full_stops(df):\n",
    "    def check_full_stop(text):\n",
    "        if pd.notnull(text) and isinstance(text, str) and text.strip() and text.strip()[-1] != '.':\n",
    "            return text.strip() + '.'\n",
    "        else:\n",
    "            return text\n",
    "\n",
    "    # Filter and print the first two rows without full stops\n",
    "    rows_without_full_stops = df[df['Answer'].apply(lambda x: pd.notnull(x) and isinstance(x, str) and x.strip() and x.strip()[-1] != '.')].head(2)\n",
    "    print(\"First two rows without full stops at the end of Answer column:\")\n",
    "    print(rows_without_full_stops)\n",
    "\n",
    "    # Apply the function to add full stops\n",
    "    df['Answer'] = df['Answer'].apply(check_full_stop)\n",
    "\n",
    "    # Find and print the first two rows after adding full stops\n",
    "    rows_with_full_stops = df.head(2)\n",
    "    print(\"\\nFirst two rows with full stops added at the end of Answer column:\")\n",
    "    print(rows_with_full_stops)\n",
    "\n",
    "    return df\n",
    "\n",
    "# Load dataset into a DataFrame\n",
    "df = pd.read_csv('final_cleaned_dataset.csv')\n",
    "\n",
    "# Apply the function to add full stops and print rows as described\n",
    "df = add_full_stops(df)\n",
    "\n",
    "# Save the modified dataset to a new CSV file\n",
    "df.to_csv('dataset_with_full_stops.csv', index=False)\n"
   ]
  },
  {
   "cell_type": "markdown",
   "id": "87384f81",
   "metadata": {},
   "source": [
    "# replace multiple commas"
   ]
  },
  {
   "cell_type": "code",
   "execution_count": 3,
   "id": "98d2f607",
   "metadata": {},
   "outputs": [],
   "source": [
    "import pandas as pd\n",
    "import re\n",
    "\n",
    "def replace_multiple_commas(df):\n",
    "    def replace_commas(text):\n",
    "        if isinstance(text, str):  # Check if the value is a string\n",
    "            # Replace multiple commas (with or without spaces) with a single comma\n",
    "            return re.sub(r',\\s*,', ', ', text)\n",
    "        return text  # Return non-string values as they are\n",
    "\n",
    "    df['Answer'] = df['Answer'].apply(replace_commas)\n",
    "    return df\n",
    "\n",
    "# Load dataset into a DataFrame\n",
    "df = pd.read_csv('dataset_with_full_stops.csv')\n",
    "\n",
    "# Apply the function to replace multiple commas in the 'Answer' column\n",
    "df = replace_multiple_commas(df)\n",
    "\n",
    "# Save the modified dataset to a new CSV file\n",
    "df.to_csv('dataset_with_single_commas.csv', index=False)\n",
    "\n"
   ]
  },
  {
   "cell_type": "markdown",
   "id": "3fd5b24e",
   "metadata": {},
   "source": [
    "# Capitalise first letter of sentences"
   ]
  },
  {
   "cell_type": "code",
   "execution_count": 4,
   "id": "a6b4ee0e",
   "metadata": {},
   "outputs": [],
   "source": [
    "import pandas as pd\n",
    "\n",
    "def correct_capitalization(df):\n",
    "    def capitalize_first_letter(text):\n",
    "        if isinstance(text, str):  # Check if the value is a string\n",
    "            # Check if the first character is lowercase\n",
    "            if text and text[0].islower():\n",
    "                return text[0].upper() + text[1:]  # Capitalize the first letter\n",
    "        return text  # Return non-string values as they are\n",
    "\n",
    "    df['Answer'] = df['Answer'].apply(capitalize_first_letter)\n",
    "    return df\n",
    "\n",
    "# Load dataset into a DataFrame\n",
    "df = pd.read_csv('dataset_with_single_commas.csv')\n",
    "\n",
    "# Apply the function to correct capitalization in the 'Answer' column\n",
    "df = correct_capitalization(df)\n",
    "\n",
    "# Save the modified dataset to a new CSV file\n",
    "df.to_csv('dataset_corrected_capitalization.csv', index=False)\n"
   ]
  },
  {
   "cell_type": "code",
   "execution_count": null,
   "id": "5921f8f0",
   "metadata": {},
   "outputs": [],
   "source": []
  }
 ],
 "metadata": {
  "kernelspec": {
   "display_name": "Python 3 (ipykernel)",
   "language": "python",
   "name": "python3"
  },
  "language_info": {
   "codemirror_mode": {
    "name": "ipython",
    "version": 3
   },
   "file_extension": ".py",
   "mimetype": "text/x-python",
   "name": "python",
   "nbconvert_exporter": "python",
   "pygments_lexer": "ipython3",
   "version": "3.11.4"
  }
 },
 "nbformat": 4,
 "nbformat_minor": 5
}
