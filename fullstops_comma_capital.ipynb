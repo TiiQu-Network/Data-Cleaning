{
 "cells": [
  {
   "cell_type": "code",
   "execution_count": 1,
   "id": "8431f421",
   "metadata": {},
   "outputs": [],
   "source": [
    "import pandas as pd\n",
    "import re\n",
    "\n",
    "def add_full_stops(df):\n",
    "    def check_full_stop(text):\n",
    "        if pd.notnull(text) and isinstance(text, str) and text.strip() and text.strip()[-1] != '.':\n",
    "            return text.strip() + '.'\n",
    "        else:\n",
    "            return text\n",
    "\n",
    "    df['Answer'] = df['Answer'].apply(check_full_stop)\n",
    "\n",
    "    return df\n",
    "\n",
    "def replace_multiple_commas(df):\n",
    "    def replace_commas(text):\n",
    "        if isinstance(text, str):  # Check if the value is a string\n",
    "            # Replace multiple commas (with or without spaces) with a single comma\n",
    "            return re.sub(r',\\s*,', ', ', text)\n",
    "        return text  # Return non-string values as they are\n",
    "\n",
    "    df['Answer'] = df['Answer'].apply(replace_commas)\n",
    "    return df\n",
    "\n",
    "def correct_capitalization(df):\n",
    "    def capitalize_first_letter(text):\n",
    "        if isinstance(text, str):  # Check if the value is a string\n",
    "            # Check if the first character is lowercase\n",
    "            if text and text[0].islower():\n",
    "                return text[0].upper() + text[1:]  # Capitalize the first letter\n",
    "        return text  # Return non-string values as they are\n",
    "\n",
    "    df['Answer'] = df['Answer'].apply(capitalize_first_letter)\n",
    "    return df\n",
    "\n",
    "def main():\n",
    "    df = pd.read_csv('db8606prelabelling.csv')\n",
    "    df = add_full_stops(df)\n",
    "    df = replace_multiple_commas(df)\n",
    "    df = correct_capitalization(df)\n",
    "\n",
    "    df.to_csv('final_processed_dataset.csv', index=False)\n",
    "\n",
    "if __name__ == \"__main__\":\n",
    "    main()\n"
   ]
  },
  {
   "cell_type": "code",
   "execution_count": null,
   "id": "d4a6dc03",
   "metadata": {},
   "outputs": [],
   "source": []
  }
 ],
 "metadata": {
  "kernelspec": {
   "display_name": "Python 3 (ipykernel)",
   "language": "python",
   "name": "python3"
  },
  "language_info": {
   "codemirror_mode": {
    "name": "ipython",
    "version": 3
   },
   "file_extension": ".py",
   "mimetype": "text/x-python",
   "name": "python",
   "nbconvert_exporter": "python",
   "pygments_lexer": "ipython3",
   "version": "3.11.4"
  }
 },
 "nbformat": 4,
 "nbformat_minor": 5
}
