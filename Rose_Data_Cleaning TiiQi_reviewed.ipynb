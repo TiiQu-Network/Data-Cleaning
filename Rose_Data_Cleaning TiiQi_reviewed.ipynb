{
 "cells": [
  {
   "cell_type": "markdown",
   "id": "72e3bd4f",
   "metadata": {},
   "source": [
    "## Task\n",
    "\n",
    "1. Remove zero at the begining of an interger\n",
    "2. Remove extra spaces from text"
   ]
  },
  {
   "cell_type": "code",
   "execution_count": 18,
   "id": "8b88374d",
   "metadata": {},
   "outputs": [],
   "source": [
    "# !pip install pandas\n",
    "# !pip install regex"
   ]
  },
  {
   "cell_type": "code",
   "execution_count": 19,
   "id": "6a3c4b50",
   "metadata": {},
   "outputs": [],
   "source": [
    "import pandas as pd\n",
    "import re\n",
    "\n",
    "import warnings\n",
    "warnings.filterwarnings('ignore')"
   ]
  },
  {
   "cell_type": "code",
   "execution_count": 20,
   "id": "d6e506ad",
   "metadata": {},
   "outputs": [
    {
     "data": {
      "text/html": [
       "<div>\n",
       "<style scoped>\n",
       "    .dataframe tbody tr th:only-of-type {\n",
       "        vertical-align: middle;\n",
       "    }\n",
       "\n",
       "    .dataframe tbody tr th {\n",
       "        vertical-align: top;\n",
       "    }\n",
       "\n",
       "    .dataframe thead th {\n",
       "        text-align: right;\n",
       "    }\n",
       "</style>\n",
       "<table border=\"1\" class=\"dataframe\">\n",
       "  <thead>\n",
       "    <tr style=\"text-align: right;\">\n",
       "      <th></th>\n",
       "      <th>id</th>\n",
       "      <th>Question</th>\n",
       "      <th>Answer</th>\n",
       "      <th>topic_name</th>\n",
       "      <th>topic_words</th>\n",
       "      <th>Riya</th>\n",
       "      <th>\\n</th>\n",
       "      <th>Lola</th>\n",
       "      <th>Sanjana</th>\n",
       "      <th>Eva</th>\n",
       "      <th>...</th>\n",
       "      <th>Unnamed: 17</th>\n",
       "      <th>Unnamed: 18</th>\n",
       "      <th>Unnamed: 19</th>\n",
       "      <th>Unnamed: 20</th>\n",
       "      <th>Unnamed: 21</th>\n",
       "      <th>Unnamed: 22</th>\n",
       "      <th>Unnamed: 23</th>\n",
       "      <th>Unnamed: 24</th>\n",
       "      <th>Unnamed: 25</th>\n",
       "      <th>Final</th>\n",
       "    </tr>\n",
       "  </thead>\n",
       "  <tbody>\n",
       "    <tr>\n",
       "      <th>0</th>\n",
       "      <td>1</td>\n",
       "      <td>What were the sources of atmospheric nutrients...</td>\n",
       "      <td>The primary sources of atmospheric nutrients t...</td>\n",
       "      <td>Bio-Fishery Costs.</td>\n",
       "      <td>Fisheries, fishing, zooplankton, bioclimatic, ...</td>\n",
       "      <td>analysis</td>\n",
       "      <td>Taxonomy</td>\n",
       "      <td>analysis</td>\n",
       "      <td>analysis</td>\n",
       "      <td>analysis</td>\n",
       "      <td>...</td>\n",
       "      <td>NaN</td>\n",
       "      <td>NaN</td>\n",
       "      <td>NaN</td>\n",
       "      <td>NaN</td>\n",
       "      <td>NaN</td>\n",
       "      <td>NaN</td>\n",
       "      <td>NaN</td>\n",
       "      <td>NaN</td>\n",
       "      <td>NaN</td>\n",
       "      <td>NaN</td>\n",
       "    </tr>\n",
       "    <tr>\n",
       "      <th>1</th>\n",
       "      <td>2</td>\n",
       "      <td>How was the fertilization effect on phytoplank...</td>\n",
       "      <td>The fertilization effect on phytoplankton was ...</td>\n",
       "      <td>Bio-Fishery Costs.</td>\n",
       "      <td>Fisheries, fishing, zooplankton, bioclimatic, ...</td>\n",
       "      <td>analysis</td>\n",
       "      <td>NaN</td>\n",
       "      <td>analysis</td>\n",
       "      <td>analysis</td>\n",
       "      <td>analysis</td>\n",
       "      <td>...</td>\n",
       "      <td>NaN</td>\n",
       "      <td>NaN</td>\n",
       "      <td>NaN</td>\n",
       "      <td>NaN</td>\n",
       "      <td>NaN</td>\n",
       "      <td>NaN</td>\n",
       "      <td>NaN</td>\n",
       "      <td>NaN</td>\n",
       "      <td>NaN</td>\n",
       "      <td>NaN</td>\n",
       "    </tr>\n",
       "  </tbody>\n",
       "</table>\n",
       "<p>2 rows × 27 columns</p>\n",
       "</div>"
      ],
      "text/plain": [
       "  id                                           Question  \\\n",
       "0  1  What were the sources of atmospheric nutrients...   \n",
       "1  2  How was the fertilization effect on phytoplank...   \n",
       "\n",
       "                                              Answer          topic_name  \\\n",
       "0  The primary sources of atmospheric nutrients t...  Bio-Fishery Costs.   \n",
       "1  The fertilization effect on phytoplankton was ...  Bio-Fishery Costs.   \n",
       "\n",
       "                                         topic_words      Riya        \\n  \\\n",
       "0  Fisheries, fishing, zooplankton, bioclimatic, ...  analysis  Taxonomy   \n",
       "1  Fisheries, fishing, zooplankton, bioclimatic, ...  analysis       NaN   \n",
       "\n",
       "       Lola   Sanjana       Eva  ...  Unnamed: 17 Unnamed: 18 Unnamed: 19  \\\n",
       "0  analysis  analysis  analysis  ...          NaN         NaN         NaN   \n",
       "1  analysis  analysis  analysis  ...          NaN         NaN         NaN   \n",
       "\n",
       "  Unnamed: 20 Unnamed: 21 Unnamed: 22  Unnamed: 23  Unnamed: 24  Unnamed: 25  \\\n",
       "0         NaN         NaN         NaN          NaN          NaN          NaN   \n",
       "1         NaN         NaN         NaN          NaN          NaN          NaN   \n",
       "\n",
       "   Final  \n",
       "0    NaN  \n",
       "1    NaN  \n",
       "\n",
       "[2 rows x 27 columns]"
      ]
     },
     "execution_count": 20,
     "metadata": {},
     "output_type": "execute_result"
    }
   ],
   "source": [
    "data = pd.read_csv('db8606full_cleaned.csv')\n",
    "data.head(2)"
   ]
  },
  {
   "cell_type": "code",
   "execution_count": 21,
   "id": "b6f11749",
   "metadata": {},
   "outputs": [
    {
     "data": {
      "text/plain": [
       "(8262, 27)"
      ]
     },
     "execution_count": 21,
     "metadata": {},
     "output_type": "execute_result"
    }
   ],
   "source": [
    "data.shape"
   ]
  },
  {
   "cell_type": "code",
   "execution_count": 22,
   "id": "893c4e68",
   "metadata": {},
   "outputs": [
    {
     "data": {
      "text/plain": [
       "0"
      ]
     },
     "execution_count": 22,
     "metadata": {},
     "output_type": "execute_result"
    }
   ],
   "source": [
    "data.Answer.isna().sum()"
   ]
  },
  {
   "cell_type": "markdown",
   "id": "fc1d88a2",
   "metadata": {},
   "source": [
    "## Remove invalid number from integers"
   ]
  },
  {
   "cell_type": "code",
   "execution_count": 23,
   "id": "fd79809f",
   "metadata": {},
   "outputs": [
    {
     "data": {
      "text/plain": [
       "'The optimized models improved the accuracy of 64% of the pixel-by-pixel predictions, and significantly improved proximately 50% of the total area compared to the basic models p < 005.'"
      ]
     },
     "execution_count": 23,
     "metadata": {},
     "output_type": "execute_result"
    }
   ],
   "source": [
    "data.Answer.loc[1920]"
   ]
  },
  {
   "cell_type": "code",
   "execution_count": 24,
   "id": "66d0f085",
   "metadata": {},
   "outputs": [
    {
     "data": {
      "text/plain": [
       "'The area converted from forest, utilized and cultivated land to grassland accounts for only 017% of the total high vulnerability area of Annan grasslands.'"
      ]
     },
     "execution_count": 24,
     "metadata": {},
     "output_type": "execute_result"
    }
   ],
   "source": [
    "data.Answer.loc[1924]"
   ]
  },
  {
   "cell_type": "code",
   "execution_count": 25,
   "id": "48c540ae",
   "metadata": {},
   "outputs": [],
   "source": [
    "# Function to remove leading zeros from numbers using regex substitution\n",
    "def remove_leading_zeros(text):\n",
    "    pattern = r'\\b0+(\\d+(\\.\\d+)?)\\b'\n",
    "    \n",
    "    # Use regex substitution to remove leading zeros from the text\n",
    "    result = re.sub(pattern, r'\\1', text)\n",
    "    return result\n",
    "\n",
    "# Apply the function element-wise to the 'Answer' column using apply() method\n",
    "data['Answer'] = data['Answer'].apply(remove_leading_zeros)\n",
    "data['Answer'] = data['Answer'].apply(remove_leading_zeros)"
   ]
  },
  {
   "cell_type": "code",
   "execution_count": 26,
   "id": "bc03529c",
   "metadata": {},
   "outputs": [
    {
     "data": {
      "text/plain": [
       "'The optimized models improved the accuracy of 64% of the pixel-by-pixel predictions, and significantly improved proximately 50% of the total area compared to the basic models p < 5.'"
      ]
     },
     "execution_count": 26,
     "metadata": {},
     "output_type": "execute_result"
    }
   ],
   "source": [
    "data.Answer.loc[1920]"
   ]
  },
  {
   "cell_type": "code",
   "execution_count": 27,
   "id": "811c71f5",
   "metadata": {},
   "outputs": [
    {
     "data": {
      "text/plain": [
       "'The area converted from forest, utilized and cultivated land to grassland accounts for only 17% of the total high vulnerability area of Annan grasslands.'"
      ]
     },
     "execution_count": 27,
     "metadata": {},
     "output_type": "execute_result"
    }
   ],
   "source": [
    "\n",
    "data.Answer.loc[1924]\n",
    "\n"
   ]
  },
  {
   "cell_type": "markdown",
   "id": "e4eb1d4d",
   "metadata": {},
   "source": [
    "## Remove extra space"
   ]
  },
  {
   "cell_type": "code",
   "execution_count": 28,
   "id": "0041d1e0",
   "metadata": {},
   "outputs": [
    {
     "name": "stdout",
     "output_type": "stream",
     "text": [
      "                              Question                                 Answer\n",
      "0  What is the objective of the study?  This is the answer with extra spaces.\n"
     ]
    }
   ],
   "source": [
    "# Sample DataFrame with 'Question' and 'Answer' columns containing extra spaces\n",
    "data = pd.DataFrame({\n",
    "    'Question': [' What is the objective of the study?  '],\n",
    "    'Answer': [' This is the answer with extra spaces.  ']\n",
    "})\n",
    "\n",
    "# Function to remove extra spaces from specified columns\n",
    "def remove_extra_spaces(df, columns):\n",
    "    for column in columns:\n",
    "        df[column] = df[column].str.replace(r'\\s+', ' ', regex=True).str.strip()\n",
    "    return df\n",
    "\n",
    "# Columns to clean (in this case, 'Question' and 'Answer')\n",
    "columns_to_clean = ['Question', 'Answer']\n",
    "\n",
    "# Call the function to remove extra spaces from specified columns\n",
    "cleaned_data = remove_extra_spaces(data, columns_to_clean)\n",
    "\n",
    "# Print the updated DataFrame\n",
    "print(cleaned_data)"
   ]
  },
  {
   "cell_type": "code",
   "execution_count": null,
   "id": "2419e5e3",
   "metadata": {},
   "outputs": [],
   "source": []
  },
  {
   "cell_type": "code",
   "execution_count": null,
   "id": "836fb88f",
   "metadata": {},
   "outputs": [],
   "source": []
  }
 ],
 "metadata": {
  "kernelspec": {
   "display_name": "Python 3 (ipykernel)",
   "language": "python",
   "name": "python3"
  },
  "language_info": {
   "codemirror_mode": {
    "name": "ipython",
    "version": 3
   },
   "file_extension": ".py",
   "mimetype": "text/x-python",
   "name": "python",
   "nbconvert_exporter": "python",
   "pygments_lexer": "ipython3",
   "version": "3.11.4"
  }
 },
 "nbformat": 4,
 "nbformat_minor": 5
}
